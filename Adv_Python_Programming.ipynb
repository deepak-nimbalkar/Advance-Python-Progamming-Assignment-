{
 "cells": [
  {
   "cell_type": "markdown",
   "metadata": {},
   "source": [
    "# 1. Write a function that takes a list of lists and returns the value of all of the symbols in it, where each symbol adds or takes something from the total score. Symbol values:\n",
    "\n",
    "    # = 5\n",
    "O = 3\n",
    "X = 1\n",
    "! = -1\n",
    "!! = -3\n",
    "!!! = -5\n",
    "\n",
    "A list of lists containing 2 #s, a O, and a !!! would equal (0 + 5 + 5 + 3 - 5) 8.\n",
    "\n",
    "If the final score is negative, return 0 (e.g. 3 #s, 3 !!s, 2 !!!s and a X would be (0 + 5 + 5 + 5 - 3 - 3 - 3 - 5 - 5 + 1) -3, so return 0.\n",
    "\n",
    "Examples\n",
    "\n",
    "check_score([\n",
    "  [\"#\", \"!\"],\n",
    "  [\"!!\", \"X\"]\n",
    "]) ➞ 2\n",
    "\n",
    "check_score([\n",
    "  [\"!!!\", \"O\", \"!\"],\n",
    "  [\"X\", \"#\", \"!!!\"],\n",
    "  [\"!!\", \"X\", \"O\"]\n",
    "]) ➞ 0\n"
   ]
  },
  {
   "cell_type": "code",
   "execution_count": 26,
   "metadata": {},
   "outputs": [
    {
     "name": "stdout",
     "output_type": "stream",
     "text": [
      "0\n"
     ]
    }
   ],
   "source": [
    "def check_score(list):\n",
    "    list = list\n",
    "    sum = 0\n",
    "    for i in list:\n",
    "        for j in i:\n",
    "            if j == '#':\n",
    "                sum = sum + 5\n",
    "            elif j == 'O':\n",
    "                sum = sum + 3\n",
    "            elif j == 'X':\n",
    "                sum = sum + 1\n",
    "            elif j == '!':\n",
    "                sum = sum - 1\n",
    "            elif j == '!!':\n",
    "                sum = sum - 3\n",
    "            elif j == '!!!':\n",
    "                sum = sum - 5\n",
    "                \n",
    "    if sum < 0:\n",
    "        return 0\n",
    "    else:\n",
    "        return sum \n",
    "                    \n",
    "# new_list = [[\"#\", \"!\"], [\"!!\", \"X\"]]\n",
    "\n",
    "new_list = [ [\"!!!\", \"O\", \"!\"], [\"X\", \"#\", \"!!!\"], [\"!!\", \"X\", \"O\"] ]\n",
    "\n",
    "result = check_score(new_list)\n",
    "\n",
    "print(result)\n",
    "    "
   ]
  },
  {
   "cell_type": "markdown",
   "metadata": {},
   "source": [
    "# 2. Create a function that takes a variable number of arguments, each argument representing the number of items in a group, and returns the number of permutations (combinations) of items that you could get by taking one item from each group.\n",
    "\n",
    "Examples\n",
    "\n",
    "combinations(2, 3) ➞ 6\n",
    "\n",
    "combinations(3, 7, 4) ➞ 84\n",
    "\n",
    "combinations(2, 3, 4, 5) ➞ 120\n"
   ]
  },
  {
   "cell_type": "code",
   "execution_count": 48,
   "metadata": {},
   "outputs": [
    {
     "name": "stdout",
     "output_type": "stream",
     "text": [
      "6\n",
      "84\n",
      "120\n"
     ]
    }
   ],
   "source": [
    "def combinations(*number):\n",
    "    num = number\n",
    "    sum = 1\n",
    "    for i in num:\n",
    "        sum = sum * i \n",
    "        \n",
    "    return sum\n",
    "\n",
    "print(combinations(2,3))\n",
    "print(combinations(3,7,4))\n",
    "print(combinations(2,3,4,5))\n",
    "        \n",
    "    "
   ]
  },
  {
   "cell_type": "markdown",
   "metadata": {},
   "source": [
    "# 3. Create a function that takes a string as an argument and returns the Morse code equivalent.\n",
    "\n",
    "Examples\n",
    "\n",
    "encode_morse(\"EDABBIT CHALLENGE\") ➞ \". -.. .- -... -... .. -   -.-. .... .- .-.. .-.. . -. --. .\"\n",
    "\n",
    "encode_morse(\"HELP ME !\") ➞ \".... . .-.. .--.   -- .   -.-.--\"\n",
    "\n",
    "This dictionary can be used for coding:\n",
    "\n",
    "char_to_dots = {\n",
    "  'A': '.-', 'B': '-...', 'C': '-.-.', 'D': '-..', 'E': '.', 'F': '..-.',\n",
    "  'G': '--.', 'H': '....', 'I': '..', 'J': '.---', 'K': '-.-', 'L': '.-..',\n",
    "  'M': '--', 'N': '-.', 'O': '---', 'P': '.--.', 'Q': '--.-', 'R': '.-.',\n",
    "  'S': '...', 'T': '-', 'U': '..-', 'V': '...-', 'W': '.--', 'X': '-..-',\n",
    "  'Y': '-.--', 'Z': '--..', ' ': ' ', '0': '-----',\n",
    "  '1': '.----', '2': '..---', '3': '...--', '4': '....-', '5': '.....',\n",
    "  '6': '-....', '7': '--...', '8': '---..', '9': '----.',\n",
    "  '&': '.-...', \"'\": '.----.', '@': '.--.-.', ')': '-.--.-', '(': '-.--.',\n",
    "  ':': '---...', ',': '--..--', '=': '-...-', '!': '-.-.--', '.': '.-.-.-',\n",
    "  '-': '-....-', '+': '.-.-.', '\"': '.-..-.', '?': '..--..', '/': '-..-.'\n",
    "}\n"
   ]
  },
  {
   "cell_type": "code",
   "execution_count": 65,
   "metadata": {},
   "outputs": [
    {
     "name": "stdout",
     "output_type": "stream",
     "text": [
      "  . -.. .- -... -... .. -   -.-. .... .- .-.. .-.. . -. --. .\n",
      "  .... . .-.. .--.   -- .   -.-.--\n"
     ]
    }
   ],
   "source": [
    "char_to_dots = {\n",
    "  'A': '.-', 'B': '-...', 'C': '-.-.', 'D': '-..', 'E': '.', 'F': '..-.',\n",
    "  'G': '--.', 'H': '....', 'I': '..', 'J': '.---', 'K': '-.-', 'L': '.-..',\n",
    "  'M': '--', 'N': '-.', 'O': '---', 'P': '.--.', 'Q': '--.-', 'R': '.-.',\n",
    "  'S': '...', 'T': '-', 'U': '..-', 'V': '...-', 'W': '.--', 'X': '-..-',\n",
    "  'Y': '-.--', 'Z': '--..', ' ': ' ', '0': '-----',\n",
    "  '1': '.----', '2': '..---', '3': '...--', '4': '....-', '5': '.....',\n",
    "  '6': '-....', '7': '--...', '8': '---..', '9': '----.',\n",
    "  '&': '.-...', \"'\": '.----.', '@': '.--.-.', ')': '-.--.-', '(': '-.--.',\n",
    "  ':': '---...', ',': '--..--', '=': '-...-', '!': '-.-.--', '.': '.-.-.-',\n",
    "  '-': '-....-', '+': '.-.-.', '\"': '.-..-.', '?': '..--..', '/': '-..-.'\n",
    "}\n",
    "\n",
    "def encode_morse(string):\n",
    "    string = string\n",
    "    en_str = \" \"\n",
    "    for i in string:\n",
    "        result = char_to_dots[i]\n",
    "        en_str = en_str+ \" \" +result\n",
    "    return en_str\n",
    "\n",
    "print(encode_morse(\"EDABBIT CHALLENGE\"))\n",
    "print(encode_morse(\"HELP ME !\"))\n",
    "    \n",
    "    \n",
    "\n",
    "# print(char_to_dots)"
   ]
  },
  {
   "cell_type": "markdown",
   "metadata": {},
   "source": [
    "# 4.  Write a function that takes a number and returns True if it's a prime; False otherwise. The number can be 2^64-1 (2 to the power of 63, not XOR). With the standard technique it would be O(2^64-1), which is much too large for the 10 second time limit.\n",
    "\n",
    "Examples\n",
    "\n",
    "prime(7) ➞ True\n",
    "\n",
    "prime(56963) ➞ True\n",
    "\n",
    "prime(5151512515524) ➞ False\n"
   ]
  },
  {
   "cell_type": "code",
   "execution_count": 10,
   "metadata": {},
   "outputs": [
    {
     "name": "stdout",
     "output_type": "stream",
     "text": [
      "True\n",
      "True\n",
      "False\n"
     ]
    }
   ],
   "source": [
    "def is_prime(x):\n",
    "    for n in range(2, x-1):\n",
    "        if(x%n)==0:\n",
    "            return False\n",
    "    else:\n",
    "        return True\n",
    "    \n",
    "print(is_prime(7))\n",
    "print(is_prime(56963))\n",
    "print(is_prime(5151512515524))"
   ]
  },
  {
   "cell_type": "markdown",
   "metadata": {},
   "source": [
    "# 5.  Create a function that converts a word to a bitstring and then to a boolean list based on the following criteria:\n",
    "\n",
    "    1. Locate the position of the letter in the English alphabet (from 1 to 26).\n",
    "    2. Odd positions will be represented as 1 and 0 otherwise.\n",
    "    3. Convert the represented positions to boolean values, 1 for True and 0 for False.\n",
    "    4. Store the conversions into an array.\n",
    "\n",
    " Examples\n",
    "\n",
    "to_boolean_list(\"deep\") ➞ [False, True, True, False]\n",
    " deep converts to 0110\n",
    " d is the 4th alphabet - 0\n",
    " e is the 5th alphabet - 1\n",
    " e is the 5th alphabet - 1\n",
    " p is the 16th alphabet - 0\n",
    "\n",
    "to_boolean_list(\"loves\") ➞ [False, True, False, True, True]\n",
    "\n",
    "to_boolean_list(\"tesh\") ➞ [False, True, True, False]\n"
   ]
  },
  {
   "cell_type": "code",
   "execution_count": 4,
   "metadata": {},
   "outputs": [
    {
     "name": "stdout",
     "output_type": "stream",
     "text": [
      "Enter Your Wordstesh\n",
      "Position of Letters [20, 5, 19, 8]\n",
      "Odd Even Posstion  [0, 1, 1, 0]\n",
      "[False, True, True, False]\n"
     ]
    }
   ],
   "source": [
    "num = 31\n",
    "\n",
    "def position(str):\n",
    "    pos_array = []\n",
    "    \n",
    "    for i in str:\n",
    "        pos = ord(i) & num\n",
    "        pos_array.append(pos)\n",
    "\n",
    "    return pos_array\n",
    "\n",
    "def even_odd(pos):\n",
    "    o_e = []\n",
    "    for i in pos:\n",
    "        if i%2 == 0:\n",
    "            o_e.append(0)\n",
    "        else:\n",
    "            o_e.append(1)\n",
    "    return o_e\n",
    "\n",
    "def boolean_value(odd_even):\n",
    "    bool = []\n",
    "    for i in odd_even:\n",
    "        if i == 1:\n",
    "            bool.append(True)\n",
    "        else:\n",
    "            bool.append(False)        \n",
    "    return bool\n",
    "        \n",
    "        \n",
    "str = input(\"Enter Your Words\")\n",
    "result = position(str)\n",
    "print(\"Position of Letters\",result)\n",
    "\n",
    "\n",
    "odd_even = even_odd(result)\n",
    "print(\"Odd Even Posstion \",odd_even)\n",
    "\n",
    "\n",
    "bool_value = boolean_value(odd_even)\n",
    "print(bool_value)\n",
    "\n",
    "\n"
   ]
  }
 ],
 "metadata": {
  "kernelspec": {
   "display_name": "Python 3",
   "language": "python",
   "name": "python3"
  },
  "language_info": {
   "codemirror_mode": {
    "name": "ipython",
    "version": 3
   },
   "file_extension": ".py",
   "mimetype": "text/x-python",
   "name": "python",
   "nbconvert_exporter": "python",
   "pygments_lexer": "ipython3",
   "version": "3.7.4"
  }
 },
 "nbformat": 4,
 "nbformat_minor": 2
}
